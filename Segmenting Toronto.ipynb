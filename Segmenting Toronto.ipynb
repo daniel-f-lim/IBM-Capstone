{
 "cells": [
  {
   "cell_type": "markdown",
   "metadata": {},
   "source": [
    "### DOWNLOAD\n",
    "\n",
    "Downloaded the wikipedia file then created an instance of Beautiful Soup using the LXML parser."
   ]
  },
  {
   "cell_type": "code",
   "execution_count": 9,
   "metadata": {},
   "outputs": [],
   "source": [
    "import pandas as pd\n",
    "import lxml\n",
    "import wget\n",
    "\n",
    "from bs4 import BeautifulSoup\n",
    "\n",
    "#wget.download('https://en.wikipedia.org/wiki/List_of_postal_codes_of_Canada:_M','Data/postal_codes.html')\n",
    "html_file = open('Data/Postal_Codes_Canada.html', encoding=\"utf8\")\n",
    "soup = BeautifulSoup(html_file, 'lxml')"
   ]
  },
  {
   "cell_type": "markdown",
   "metadata": {},
   "source": [
    "### CLEAN DATA\n",
    "\n",
    "Created a dictionary `data` that has postal codes as *keys* and borough / neighborhoods tuples as *values*. Data with no assigned boroughs were discarded. Data with boroughs but no assigned neighborhoods changed the neighborhoods to be the boroughs."
   ]
  },
  {
   "cell_type": "code",
   "execution_count": 11,
   "metadata": {},
   "outputs": [],
   "source": [
    "# match = soup.title.text\n",
    "data = {}\n",
    "\n",
    "tr_table = soup.find('table',class_='wikitable sortable')\n",
    "for tr in tr_table.find_all('tr'):\n",
    "    tup = ()\n",
    "    for elem in tr.find_all('td'):\n",
    "        tup += (elem.text.strip(),)\n",
    "    if len(tup) == 3:\n",
    "        code,bor,nei = tup\n",
    "        if bor.lower() != 'not assigned':\n",
    "            if nei.lower() == 'not assigned':\n",
    "                nei = bor\n",
    "            val = data.get(code)\n",
    "            if val:\n",
    "                data[code] = (bor, nei+', '+val[1])\n",
    "            else:\n",
    "                data[code] = (bor, nei)"
   ]
  },
  {
   "cell_type": "markdown",
   "metadata": {},
   "source": [
    "### DATAFRAME\n",
    "\n",
    "Use the `data` dictionary to populate a dataframe"
   ]
  },
  {
   "cell_type": "code",
   "execution_count": 12,
   "metadata": {},
   "outputs": [],
   "source": [
    "cols = ['PostalCode','Borough','Neighborhood']\n",
    "pcodes = pd.DataFrame(columns=cols)\n",
    "\n",
    "for k,v in data.items():\n",
    "    pcodes = pcodes.append({'PostalCode':k,'Borough':v[0],'Neighborhood':v[1]},\n",
    "                  ignore_index=True)"
   ]
  },
  {
   "cell_type": "markdown",
   "metadata": {},
   "source": [
    "### M5V\n",
    "\n",
    "This postal code had multiple neighborhoods."
   ]
  },
  {
   "cell_type": "code",
   "execution_count": 13,
   "metadata": {},
   "outputs": [
    {
     "data": {
      "text/html": [
       "<div>\n",
       "<style scoped>\n",
       "    .dataframe tbody tr th:only-of-type {\n",
       "        vertical-align: middle;\n",
       "    }\n",
       "\n",
       "    .dataframe tbody tr th {\n",
       "        vertical-align: top;\n",
       "    }\n",
       "\n",
       "    .dataframe thead th {\n",
       "        text-align: right;\n",
       "    }\n",
       "</style>\n",
       "<table border=\"1\" class=\"dataframe\">\n",
       "  <thead>\n",
       "    <tr style=\"text-align: right;\">\n",
       "      <th></th>\n",
       "      <th>PostalCode</th>\n",
       "      <th>Borough</th>\n",
       "      <th>Neighborhood</th>\n",
       "    </tr>\n",
       "  </thead>\n",
       "  <tbody>\n",
       "    <tr>\n",
       "      <th>87</th>\n",
       "      <td>M5V</td>\n",
       "      <td>Downtown Toronto</td>\n",
       "      <td>South Niagara, Railway Lands, King and Spadina...</td>\n",
       "    </tr>\n",
       "  </tbody>\n",
       "</table>\n",
       "</div>"
      ],
      "text/plain": [
       "   PostalCode           Borough  \\\n",
       "87        M5V  Downtown Toronto   \n",
       "\n",
       "                                         Neighborhood  \n",
       "87  South Niagara, Railway Lands, King and Spadina...  "
      ]
     },
     "execution_count": 13,
     "metadata": {},
     "output_type": "execute_result"
    }
   ],
   "source": [
    "pcodes.loc[pcodes['PostalCode'] == 'M5V']"
   ]
  },
  {
   "cell_type": "markdown",
   "metadata": {},
   "source": [
    "### M7A\n",
    "\n",
    "THis postal code had a borough, but no neighborhood."
   ]
  },
  {
   "cell_type": "code",
   "execution_count": 14,
   "metadata": {},
   "outputs": [
    {
     "data": {
      "text/html": [
       "<div>\n",
       "<style scoped>\n",
       "    .dataframe tbody tr th:only-of-type {\n",
       "        vertical-align: middle;\n",
       "    }\n",
       "\n",
       "    .dataframe tbody tr th {\n",
       "        vertical-align: top;\n",
       "    }\n",
       "\n",
       "    .dataframe thead th {\n",
       "        text-align: right;\n",
       "    }\n",
       "</style>\n",
       "<table border=\"1\" class=\"dataframe\">\n",
       "  <thead>\n",
       "    <tr style=\"text-align: right;\">\n",
       "      <th></th>\n",
       "      <th>PostalCode</th>\n",
       "      <th>Borough</th>\n",
       "      <th>Neighborhood</th>\n",
       "    </tr>\n",
       "  </thead>\n",
       "  <tbody>\n",
       "    <tr>\n",
       "      <th>4</th>\n",
       "      <td>M7A</td>\n",
       "      <td>Queen's Park</td>\n",
       "      <td>Queen's Park</td>\n",
       "    </tr>\n",
       "  </tbody>\n",
       "</table>\n",
       "</div>"
      ],
      "text/plain": [
       "  PostalCode       Borough  Neighborhood\n",
       "4        M7A  Queen's Park  Queen's Park"
      ]
     },
     "execution_count": 14,
     "metadata": {},
     "output_type": "execute_result"
    }
   ],
   "source": [
    "pcodes.loc[pcodes['PostalCode'] == 'M7A']"
   ]
  },
  {
   "cell_type": "markdown",
   "metadata": {},
   "source": [
    "### DATA SHAPE\n",
    "\n",
    "There **103** rows of data."
   ]
  },
  {
   "cell_type": "code",
   "execution_count": 15,
   "metadata": {},
   "outputs": [
    {
     "data": {
      "text/plain": [
       "(103, 3)"
      ]
     },
     "execution_count": 15,
     "metadata": {},
     "output_type": "execute_result"
    }
   ],
   "source": [
    "pcodes.shape"
   ]
  }
 ],
 "metadata": {
  "kernelspec": {
   "display_name": "Python 3",
   "language": "python",
   "name": "python3"
  }
 },
 "nbformat": 4,
 "nbformat_minor": 1
}
