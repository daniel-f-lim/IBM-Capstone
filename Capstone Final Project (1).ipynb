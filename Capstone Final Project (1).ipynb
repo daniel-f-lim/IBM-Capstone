{
 "cells": [
  {
   "cell_type": "markdown",
   "metadata": {},
   "source": [
    "# Korean Restaurants in Los Angeles County"
   ]
  },
  {
   "cell_type": "markdown",
   "metadata": {},
   "source": [
    "### Problem\n",
    "\n",
    "There are so many Korean (and more broadly Asian) restaurants in Los Angeles county. It seems, however, that they thrive in areas with younger, more diverse populations. Moreover, they seem to do well in areas with a lower ratio of Asian restaurants. It would nice to locate the cities within Los Angeles county that meet these requirements."
   ]
  },
  {
   "cell_type": "markdown",
   "metadata": {},
   "source": [
    "### Target Audience\n",
    "\n",
    "Potential Korean restauranteurs wanting to start a business in Los Angeles county."
   ]
  }
 ],
 "metadata": {
  "kernelspec": {
   "display_name": "Python 3",
   "language": "python",
   "name": "python3"
  },
  "language_info": {
   "codemirror_mode": {
    "name": "ipython",
    "version": 3
   },
   "file_extension": ".py",
   "mimetype": "text/x-python",
   "name": "python",
   "nbconvert_exporter": "python",
   "pygments_lexer": "ipython3",
   "version": "3.6.5"
  }
 },
 "nbformat": 4,
 "nbformat_minor": 2
}
