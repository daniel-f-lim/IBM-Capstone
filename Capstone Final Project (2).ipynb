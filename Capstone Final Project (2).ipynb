{
 "cells": [
  {
   "cell_type": "markdown",
   "metadata": {},
   "source": [
    "# Korean Restaurants in Los Angeles County"
   ]
  },
  {
   "cell_type": "markdown",
   "metadata": {},
   "source": [
    "### Data\n",
    "\n",
    "#### American Community Survey (ACS) 5-Year Data Profile\n",
    "\n",
    "https://api.census.gov/data/2017/acs/acs5/profile.html\n",
    "\n",
    "Year: 2017\n",
    "Source: U.S. Census API\n",
    "\n",
    "#### L.A. County Neighborhoods\n",
    "\n",
    "http://boundaries.latimes.com/set/la-county-neighborhoods-current/\n",
    "\n",
    "Year: 2010\n",
    "Source: JSON - neighborhood names and multi-polygon lat/lon coordinates  from which centroids can be calculated to locate the neighborhoods on folium maps.\n",
    "\n",
    "#### Foursquare Location Data\n",
    "\n",
    "https://foursquare.com/\n",
    "\n",
    "Year: Ongoing Updates\n",
    "Source: Foursquare API"
   ]
  }
 ],
 "metadata": {
  "kernelspec": {
   "display_name": "Python 3",
   "language": "python",
   "name": "python3"
  },
  "language_info": {
   "codemirror_mode": {
    "name": "ipython",
    "version": 3
   },
   "file_extension": ".py",
   "mimetype": "text/x-python",
   "name": "python",
   "nbconvert_exporter": "python",
   "pygments_lexer": "ipython3",
   "version": "3.6.5"
  }
 },
 "nbformat": 4,
 "nbformat_minor": 2
}
