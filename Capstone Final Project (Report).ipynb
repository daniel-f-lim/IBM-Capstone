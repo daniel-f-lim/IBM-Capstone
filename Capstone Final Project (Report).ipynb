{
 "cells": [
  {
   "cell_type": "markdown",
   "metadata": {},
   "source": [
    "# Korean Restaurants in Los Angeles County"
   ]
  },
  {
   "cell_type": "markdown",
   "metadata": {},
   "source": [
    "### PROBLEM\n",
    "\n",
    "There are so many Korean (and more broadly Asian) restaurants in Los Angeles county. It seems, however, that they thrive in areas with younger, more diverse populations. Moreover, they seem to do well in areas with a lower ratio of Asian restaurants. It would be nice to locate the zip code areas within Los Angeles county that meet these requirements."
   ]
  },
  {
   "cell_type": "markdown",
   "metadata": {},
   "source": [
    "### TARGET AUDIENCE\n",
    "\n",
    "Potential Korean restauranteurs wanting to start a business in Los Angeles county."
   ]
  },
  {
   "cell_type": "markdown",
   "metadata": {},
   "source": [
    "### DATA\n",
    "\n",
    "#### American Community Survey (ACS) 5-Year Data Profile\n",
    "\n",
    "https://api.census.gov/data/2017/acs/acs5/profile.html\n",
    "\n",
    "Year: 2017\n",
    "Source: U.S. Census API\n",
    "\n",
    "#### L.A. County Neighborhoods\n",
    "\n",
    "http://boundaries.latimes.com/set/la-county-neighborhoods-current/\n",
    "\n",
    "Year: 2010\n",
    "Source: JSON - neighborhood names and multi-polygon lat/lon coordinates  from which centroids can be calculated to locate the neighborhoods on folium maps.\n",
    "\n",
    "#### Foursquare Location Data\n",
    "\n",
    "https://foursquare.com/\n",
    "\n",
    "Year: Ongoing Updates\n",
    "Source: Foursquare API"
   ]
  },
  {
   "cell_type": "markdown",
   "metadata": {},
   "source": [
    "### METHODOLOGY\n",
    "\n",
    "1. Used the U.S. Census API to get total populations in Los Angeles County by Zip Codes into a DataFrame.\n",
    "\n",
    "2. The DataFrame was augmented with information of the Korean population in each Zip Code from 2012 to 2017 from the U.S. Census API.\n",
    "\n",
    "3. The data types were cleaned so that they would match up with the GEOJSON geographic coordinates of each zip code area downloaded from L.A. Times. The centroids of each zip code geographic area is also calculated.\n",
    "\n",
    "4. 3 Folium maps are genreated to show where the greatest populations, 30-40 year olds, and greatest Korean populations are located.\n",
    "\n",
    "5. Foursquare data is used to count the number of existing Korean Restaurants in each zip code.\n",
    "\n",
    "6. Linear Regression is used to predict what the Korean population will be in each zip code.\n",
    "\n",
    "7. All of this information is used to calculate a Korean Restaurant Index based on: total population, median age, Korean population, number of existing Korean restaurants, and the positive change in Korean population (is it growing).\n",
    "\n",
    "8. This index is used to generate an additional Folium map to help Korean restauranteurs decide where to start a new restaurant."
   ]
  },
  {
   "cell_type": "markdown",
   "metadata": {},
   "source": [
    "### RESULTS\n",
    "\n",
    "The largest Korean populations are in downtown LA along Wilshire Blvd and in the southeastern suburbs in the Fullerton area.\n",
    "\n",
    "The number of Korean restaurants are also highest in these areas. So in some ways they are saturated markets.\n",
    "\n",
    "After the Korean Restaurant Index is calculated, it turns out that these locations remain good locations for future Korean restaurants given the balance of Korean population size and growth in Korean population.\n",
    "\n",
    "The Diamond Bar and La Canada areas, however, are also potential locations based on the limited number of existing Korean restaurants paired with a growing Korean population."
   ]
  },
  {
   "cell_type": "markdown",
   "metadata": {},
   "source": [
    "### DISCUSSION\n",
    "\n",
    "Future work should include an analysis of the popularity of existing Korean restaurants and what factors might contribute to this.\n",
    "\n",
    "Non-Korean Asian populations should also be studied along with property rental and labor costs."
   ]
  },
  {
   "cell_type": "markdown",
   "metadata": {},
   "source": [
    "### CONCLUSION\n",
    "\n",
    "As a first pass at analyzing geographic / demographic data regarding Korean restaurants and Korean populations we were able to locate key zip code areas that were ripe for Korean restauranteurs."
   ]
  }
 ],
 "metadata": {
  "kernelspec": {
   "display_name": "Python 3",
   "language": "python",
   "name": "python3"
  },
  "language_info": {
   "codemirror_mode": {
    "name": "ipython",
    "version": 3
   },
   "file_extension": ".py",
   "mimetype": "text/x-python",
   "name": "python",
   "nbconvert_exporter": "python",
   "pygments_lexer": "ipython3",
   "version": "3.6.5"
  }
 },
 "nbformat": 4,
 "nbformat_minor": 2
}
